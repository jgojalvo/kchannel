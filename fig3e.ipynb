{
 "cells": [
  {
   "cell_type": "markdown",
   "metadata": {},
   "source": [
    "### Ion channels enable electrical communication in bacterial communities\n",
    "Arthur Prindle, Jintao Liu, Munehiro Asally, San Ly, Jordi Garcia-Ojalvo, and Gürol M. Süel\n",
    "<br>\n",
    "https://www.nature.com/articles/nature15709\n",
    "\n",
    "**Figure 3e: Effect of trkA on propagation**<br>\n",
    "Jordi Garcia-Ojalvo, jordi.g.ojalvo@upf.edu\n",
    "\n",
    "---"
   ]
  },
  {
   "cell_type": "markdown",
   "metadata": {},
   "source": [
    "Here we model the effect of the trkA deletion on the propagation of a pulse. We use a spatially extended version of the single-cell model. This is a mesoscopic model, in which the variables represent now the local averages of the membrane potential, stress, and ThT across a population of cells small enough so that the local concentration of extracellular potassium in their neighborhood (which is represented by E in this mesoscopic model) is homogeneous, but large enough so that diffusion of E is well-defined.\n",
    "\n",
    "Running this code requires the C compiler `cc` and the utility `make`. Both are available by default in Linux, or by installing the `Xcode` development environment in Mac OS X."
   ]
  },
  {
   "cell_type": "markdown",
   "metadata": {},
   "source": [
    "First we load some python packages:"
   ]
  },
  {
   "cell_type": "code",
   "execution_count": 1,
   "metadata": {
    "ExecuteTime": {
     "end_time": "2022-01-05T10:49:45.787000Z",
     "start_time": "2022-01-05T10:49:45.350827Z"
    }
   },
   "outputs": [],
   "source": [
    "import numpy as np\n",
    "import matplotlib.pyplot as plt\n",
    "from scipy import optimize\n",
    "import subprocess\n",
    "\n",
    "plt.rcParams['axes.labelsize'] = 25\n",
    "plt.rcParams['xtick.labelsize'] = 25\n",
    "plt.rcParams['ytick.labelsize'] = 25\n",
    "plt.rcParams['axes.facecolor'] = '#f2f2f2'"
   ]
  },
  {
   "cell_type": "markdown",
   "metadata": {},
   "source": [
    "Now we compile the C code:"
   ]
  },
  {
   "cell_type": "code",
   "execution_count": 2,
   "metadata": {
    "ExecuteTime": {
     "end_time": "2022-01-05T10:49:45.945657Z",
     "start_time": "2022-01-05T10:49:45.788520Z"
    }
   },
   "outputs": [
    {
     "name": "stdout",
     "output_type": "stream",
     "text": [
      "cc -I/Users/ojalvo/include kch1d.o dran.o -o kch1d -lm\n"
     ]
    }
   ],
   "source": [
    "p = subprocess.Popen([\"make\"],stdout=subprocess.PIPE,stderr=subprocess.PIPE)\n",
    "while True:\n",
    "    ln = p.stdout.readline().decode().rstrip()\n",
    "    if ln == '':\n",
    "            break\n",
    "    print(ln)\n",
    "while True:\n",
    "    ln = p.stderr.readline().decode().rstrip()\n",
    "    if ln == '':\n",
    "            break\n",
    "    print(ln)"
   ]
  },
  {
   "cell_type": "markdown",
   "metadata": {},
   "source": [
    "Next we define a parameter file (which will be saved in the `output` directory):"
   ]
  },
  {
   "cell_type": "code",
   "execution_count": 3,
   "metadata": {
    "ExecuteTime": {
     "end_time": "2022-01-05T10:49:45.953431Z",
     "start_time": "2022-01-05T10:49:45.947597Z"
    }
   },
   "outputs": [],
   "source": [
    "pfile = open('output/da.par', 'w')\n",
    "pfile.write('30    !gk\\n')\n",
    "pfile.write('0.2    !gl\\n')\n",
    "pfile.write('-380    !Vk\\n')\n",
    "pfile.write('-156    !Vl\\n')\n",
    "pfile.write('0.04    !Sth\\n')\n",
    "pfile.write('-150    !Vth\\n')\n",
    "pfile.write('2    !a0\\n')\n",
    "pfile.write('1.3    !b0\\n')\n",
    "pfile.write('1    !m\\n')\n",
    "pfile.write('0.2    !sa\\n')\n",
    "pfile.write('10    !ge\\n')\n",
    "pfile.write('8   !dl\\n')\n",
    "pfile.write('1    !dk\\n')\n",
    "pfile.write('0.001    !bs\\n')\n",
    "pfile.write('0.1     !gs\\n')\n",
    "pfile.write('4      !gt\\n')\n",
    "pfile.write('5.6    !F\\n')\n",
    "pfile.write('0.0828         !D\\n')\n",
    "pfile.write('0         !dasym\\n')\n",
    "pfile.write('80.0        !Twarm\\n')\n",
    "pfile.write('40.0        !Tpert\\n')\n",
    "pfile.write('0.1        !Spert\\n')\n",
    "pfile.write('0.          !intensity_of_initial_conditions\\n')\n",
    "pfile.write('41          !system_size\\n')\n",
    "pfile.write('220.0         !final_time\\n')\n",
    "pfile.write('0.1          !measuring_time\\n')\n",
    "pfile.write('0.03         !lattice_spacing\\n')\n",
    "pfile.write('0.001        !integration_time_step\\n')\n",
    "pfile.write('122          !random_number_generator_seed\\n')\n",
    "pfile.close()"
   ]
  },
  {
   "cell_type": "markdown",
   "metadata": {},
   "source": [
    "Now we run the C code using the parameter file that we created above (if the cell below produces no output, it means the code was run successfully). This code will create an output file with the extension `dat` in the directory `output`."
   ]
  },
  {
   "cell_type": "code",
   "execution_count": 4,
   "metadata": {
    "ExecuteTime": {
     "end_time": "2022-01-05T10:49:47.559145Z",
     "start_time": "2022-01-05T10:49:45.954355Z"
    },
    "scrolled": true
   },
   "outputs": [],
   "source": [
    "p = subprocess.Popen([\"./kch1d\",\"output/da\"],stdout=subprocess.PIPE,stderr=subprocess.PIPE)\n",
    "while True:\n",
    "    ln = p.stdout.readline().decode().rstrip()\n",
    "    if ln == '':\n",
    "            break\n",
    "    print(ln)\n",
    "while True:\n",
    "    ln = p.stderr.readline().decode().rstrip()\n",
    "    if ln == '':\n",
    "            break\n",
    "    print(ln)"
   ]
  },
  {
   "cell_type": "markdown",
   "metadata": {},
   "source": [
    "Now we extract the data from the C output file, and compute the maxima of the pulse at all locations:"
   ]
  },
  {
   "cell_type": "code",
   "execution_count": 5,
   "metadata": {
    "ExecuteTime": {
     "end_time": "2022-01-05T10:49:47.674965Z",
     "start_time": "2022-01-05T10:49:47.560596Z"
    }
   },
   "outputs": [],
   "source": [
    "content = None\n",
    "with open('output/da.dat', 'r') as f:\n",
    "    content = f.readlines()\n",
    "nrows = len(content)     \n",
    "dummy = content[0].split('\\t')\n",
    "dummy = [el for el in dummy if len(el) > 0 and el != '\\n']\n",
    "ncols = len(dummy)\n",
    "dvec = np.empty((nrows,ncols))\n",
    "\n",
    "iline = 0\n",
    "for line in content:\n",
    "    dummy = line.split('\\t')\n",
    "    dummy = [el for el in dummy if len(el) > 0 and el != '\\n']\n",
    "            \n",
    "    if len(dummy) > 1:\n",
    "        dvec[iline,:] = dummy\n",
    "        iline = iline + 1\n",
    "\n",
    "ncells = int((ncols-1)/5)\n",
    "tvec0 = dvec[:,0]\n",
    "fmax = np.zeros(ncells)\n",
    "for i in range(ncells):\n",
    "    fvec0 = dvec[:,5*(i+1)]\n",
    "    fvec = fvec0[np.where((tvec0>110) & (tvec0<220))]\n",
    "    fmax[i] = np.amax(fvec)\n",
    "crange = range(ncells)"
   ]
  },
  {
   "cell_type": "markdown",
   "metadata": {},
   "source": [
    "Next we simulate the trkA deletion using the same procedure:"
   ]
  },
  {
   "cell_type": "code",
   "execution_count": 6,
   "metadata": {
    "ExecuteTime": {
     "end_time": "2022-01-05T10:49:49.047685Z",
     "start_time": "2022-01-05T10:49:47.675959Z"
    },
    "scrolled": true
   },
   "outputs": [],
   "source": [
    "# We create the parameter file\n",
    "\n",
    "pfile = open('output/db.par', 'w')\n",
    "pfile.write('19.785    !gk\\n')\n",
    "pfile.write('0.2    !gl\\n')\n",
    "pfile.write('-380    !Vk\\n')\n",
    "pfile.write('-156    !Vl\\n')\n",
    "pfile.write('0.04    !Sth\\n')\n",
    "pfile.write('-150    !Vth\\n')\n",
    "pfile.write('2    !a0\\n')\n",
    "pfile.write('1.3    !b0\\n')\n",
    "pfile.write('1    !m\\n')\n",
    "pfile.write('0.2    !sa\\n')\n",
    "pfile.write('9    !ge\\n')\n",
    "pfile.write('8   !dl\\n')\n",
    "pfile.write('1    !dk\\n')\n",
    "pfile.write('0.001    !bs\\n')\n",
    "pfile.write('0.1     !gs\\n')\n",
    "pfile.write('4      !gt\\n')\n",
    "pfile.write('5.6    !F\\n')\n",
    "pfile.write('0.0828         !D\\n')\n",
    "pfile.write('0         !dasym\\n')\n",
    "pfile.write('80.0        !Twarm\\n')\n",
    "pfile.write('40.0        !Tpert\\n')\n",
    "pfile.write('0.1        !Spert\\n')\n",
    "pfile.write('0.          !intensity_of_initial_conditions\\n')\n",
    "pfile.write('41          !system_size\\n')\n",
    "pfile.write('220.0         !final_time\\n')\n",
    "pfile.write('0.1          !measuring_time\\n')\n",
    "pfile.write('0.03          !lattice_spacing\\n')\n",
    "pfile.write('0.001        !integration_time_step\\n')\n",
    "pfile.write('122          !random_number\\n')\n",
    "pfile.close()\n",
    "\n",
    "# We run the code\n",
    "\n",
    "p = subprocess.Popen([\"./kch1d\",\"output/db\"],stdout=subprocess.PIPE,stderr=subprocess.PIPE)\n",
    "while True:\n",
    "    ln = p.stdout.readline().decode().rstrip()\n",
    "    if ln == '':\n",
    "            break\n",
    "    print(ln)\n",
    "while True:\n",
    "    ln = p.stderr.readline().decode().rstrip()\n",
    "    if ln == '':\n",
    "            break\n",
    "    print(ln)\n",
    "\n",
    "# We extract the data from the C output file\n",
    "\n",
    "content = None\n",
    "with open('output/db.dat', 'r') as f:\n",
    "    content = f.readlines()\n",
    "nrows = len(content)     \n",
    "dummy = content[0].split('\\t')\n",
    "dummy = [el for el in dummy if len(el) > 0 and el != '\\n']\n",
    "ncols = len(dummy)\n",
    "dvec = np.empty((nrows,ncols))\n",
    "\n",
    "iline = 0\n",
    "for line in content:\n",
    "    dummy = line.split('\\t')\n",
    "    dummy = [el for el in dummy if len(el) > 0 and el != '\\n']\n",
    "            \n",
    "    if len(dummy) > 1:\n",
    "        dvec[iline,:] = dummy\n",
    "        iline = iline + 1\n",
    "\n",
    "# We compute the maxima of the pulse at all spatial locations\n",
    "\n",
    "tvec0 = dvec[:,0]\n",
    "fmax2 = np.zeros(ncells)\n",
    "for i in range(ncells):\n",
    "    fvec0 = dvec[:,5*(i+1)]\n",
    "    fvec = fvec0[np.where((tvec0>110) & (tvec0<220))]\n",
    "    fmax2[i] = np.amax(fvec)\n",
    "crange = np.arange(ncells)"
   ]
  },
  {
   "cell_type": "markdown",
   "metadata": {},
   "source": [
    "We now fit the leading edge of the front in both the wild-type and trkA deletions with a linear function:"
   ]
  },
  {
   "cell_type": "code",
   "execution_count": 7,
   "metadata": {
    "ExecuteTime": {
     "end_time": "2022-01-05T10:49:49.056605Z",
     "start_time": "2022-01-05T10:49:49.050195Z"
    }
   },
   "outputs": [],
   "source": [
    "inmin0 = 18\n",
    "inmax0 = -7\n",
    "inmin = -11\n",
    "inmax = -8\n",
    "xdat = crange[inmin:inmax]\n",
    "ydat = fmax[inmin:inmax]/np.amax(fmax[inmin0:inmax0])\n",
    "ydat2 = fmax2[inmin:inmax]/np.amax(fmax2[inmin0:inmax0])\n",
    "\n",
    "def flin(x,a,b):\n",
    "    return a*x+b\n",
    "\n",
    "guess = [-0.1, -10]\n",
    "params, params_covariance = optimize.curve_fit(flin, xdat, ydat, guess)\n",
    "xfit = np.linspace(np.amin(xdat),np.amax(xdat),20)\n",
    "yfit = flin(xfit,params[0],params[1])\n",
    "\n",
    "params, params_covariance = optimize.curve_fit(flin, xdat, ydat2, guess)\n",
    "xfit2 = np.linspace(np.amin(xdat),np.amax(xdat),20)\n",
    "yfit2 = flin(xfit2,params[0],params[1])\n"
   ]
  },
  {
   "cell_type": "markdown",
   "metadata": {},
   "source": [
    "Finally we can compare the profiles of the two biofilms near the end of the wave, using the linear approximation for both cases:"
   ]
  },
  {
   "cell_type": "code",
   "execution_count": 8,
   "metadata": {
    "ExecuteTime": {
     "end_time": "2022-01-05T10:49:49.316008Z",
     "start_time": "2022-01-05T10:49:49.059544Z"
    }
   },
   "outputs": [
    {
     "data": {
      "image/png": "[encoded data removed]",
      "text/plain": [
       "<Figure size 432x288 with 1 Axes>"
      ]
     },
     "metadata": {
      "needs_background": "light"
     },
     "output_type": "display_data"
    }
   ],
   "source": [
    "fig=plt.figure()\n",
    "dx = 0.03*1000\n",
    "plt.plot(xfit*dx-965,yfit/np.amax(yfit),'ko-')\n",
    "plt.plot(xfit2*dx-965,yfit2/np.amax(yfit2),'ro-')\n",
    "plt.xlabel('Distance from edge ($\\mu$m)',fontsize=20)\n",
    "plt.ylabel('ThT (arb. units)',fontsize=20)\n",
    "plt.ylim([0,1.1])\n",
    "plt.xlim([-65,-15])\n",
    "plt.tight_layout()\n",
    "plt.grid()\n",
    "plt.show()\n",
    "fig.savefig('figures/fig3e.pdf')"
   ]
  },
  {
   "cell_type": "code",
   "execution_count": null,
   "metadata": {},
   "outputs": [],
   "source": []
  }
 ],
 "metadata": {
  "anaconda-cloud": {},
  "hide_input": false,
  "kernelspec": {
   "display_name": "Python 3",
   "language": "python",
   "name": "python3"
  },
  "language_info": {
   "codemirror_mode": {
    "name": "ipython",
    "version": 3
   },
   "file_extension": ".py",
   "mimetype": "text/x-python",
   "name": "python",
   "nbconvert_exporter": "python",
   "pygments_lexer": "ipython3",
   "version": "3.7.7"
  },
  "toc": {
   "base_numbering": 1,
   "nav_menu": {},
   "number_sections": false,
   "sideBar": true,
   "skip_h1_title": false,
   "title_cell": "Table of Contents",
   "title_sidebar": "Contents",
   "toc_cell": false,
   "toc_position": {
    "height": "calc(100% - 180px)",
    "left": "10px",
    "top": "150px",
    "width": "271.797px"
   },
   "toc_section_display": true,
   "toc_window_display": false
  },
  "varInspector": {
   "cols": {
    "lenName": 16,
    "lenType": 16,
    "lenVar": 40
   },
   "kernels_config": {
    "python": {
     "delete_cmd_postfix": "",
     "delete_cmd_prefix": "del ",
     "library": "var_list.py",
     "varRefreshCmd": "print(var_dic_list())"
    },
    "r": {
     "delete_cmd_postfix": ") ",
     "delete_cmd_prefix": "rm(",
     "library": "var_list.r",
     "varRefreshCmd": "cat(var_dic_list()) "
    }
   },
   "types_to_exclude": [
    "module",
    "function",
    "builtin_function_or_method",
    "instance",
    "_Feature"
   ],
   "window_display": false
  }
 },
 "nbformat": 4,
 "nbformat_minor": 1
}
