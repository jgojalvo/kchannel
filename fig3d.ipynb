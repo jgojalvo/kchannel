{
 "cells": [
  {
   "cell_type": "markdown",
   "metadata": {},
   "source": [
    "### Ion channels enable electrical communication in bacterial communities\n",
    "Arthur Prindle, Jintao Liu, Munehiro Asally, San Ly, Jordi Garcia-Ojalvo, and Gürol M. Süel\n",
    "<br>\n",
    "https://www.nature.com/articles/nature15709\n",
    "\n",
    "**Figure 3d: Effect of KCl shock on wilt-type and $\\Delta$yugO strain**<br>\n",
    "Jordi Garcia-Ojalvo, jordi.g.ojalvo@upf.edu\n",
    "\n",
    "---"
   ]
  },
  {
   "cell_type": "markdown",
   "metadata": {},
   "source": [
    "Here we model the effect of a KCl shock on both the wild-type and yugO deletion strains. We represent the KCl shock by means of a short pulse of extracellular potassium.\n",
    "\n",
    "First we load all necessary python packages:"
   ]
  },
  {
   "cell_type": "code",
   "execution_count": 1,
   "metadata": {
    "ExecuteTime": {
     "end_time": "2022-01-05T10:05:00.999690Z",
     "start_time": "2022-01-05T10:05:00.695415Z"
    }
   },
   "outputs": [],
   "source": [
    "import numpy as np\n",
    "import matplotlib.pyplot as plt\n",
    "from scipy.integrate import odeint\n",
    "\n",
    "plt.rcParams['axes.labelsize'] = 25\n",
    "plt.rcParams['xtick.labelsize'] = 25\n",
    "plt.rcParams['ytick.labelsize'] = 25\n",
    "plt.rcParams['axes.facecolor'] = '#f2f2f2'"
   ]
  },
  {
   "cell_type": "markdown",
   "metadata": {},
   "source": [
    "Next we define the model parameters:"
   ]
  },
  {
   "cell_type": "code",
   "execution_count": 2,
   "metadata": {
    "ExecuteTime": {
     "end_time": "2022-01-05T10:05:01.003221Z",
     "start_time": "2022-01-05T10:05:01.000796Z"
    },
    "scrolled": false
   },
   "outputs": [],
   "source": [
    "gk = 30\n",
    "gl = 0.2\n",
    "Vk = -380\n",
    "Vl = -156\n",
    "Sth = 0.04\n",
    "Vth = -150\n",
    "a0 = 2 \n",
    "b0 = 1.3 \n",
    "m = 1\n",
    "sa = 0.2\n",
    "ge = 10\n",
    "dl = 8\n",
    "dk = 1\n",
    "bs = 0.001\n",
    "gs = 0.1\n",
    "gt = 4\n",
    "F = 5.6\n",
    "kshock = 200"
   ]
  },
  {
   "cell_type": "markdown",
   "metadata": {},
   "source": [
    "Next we define the model:"
   ]
  },
  {
   "cell_type": "code",
   "execution_count": 3,
   "metadata": {
    "ExecuteTime": {
     "end_time": "2022-01-05T10:05:01.008375Z",
     "start_time": "2022-01-05T10:05:01.004490Z"
    },
    "scrolled": false
   },
   "outputs": [],
   "source": [
    "Sthm = Sth**m\n",
    "Vss = Vk+ge*gl*(Vk-Vl)/(-ge*gl)\n",
    "\n",
    "def f(vne,t):\n",
    "    V, n, E, S, T, N, A = vne\n",
    "    a = a0*S**m/(Sthm+S**m)\n",
    "    b = b0\n",
    "    Sin = bs*(Vth-V)/(np.exp((Vth-V)/sa)-1)\n",
    "    Tin = bs*(Vss-V)\n",
    "    Vls = Vl+dl*E\n",
    "    Vks = Vk+dk*E\n",
    "    dVdt = -gk*n**4*(V-Vks) - gl*(V-Vls)\n",
    "    dndt = a*(1-n)-b*n\n",
    "    dEdt = F*gk*n**4*(V-Vks) - ge*E\n",
    "    dSdt = Sin - gs*S\n",
    "    dTdt = Tin - gt*T\n",
    "    dNdt = bs*S - gs*N\n",
    "    dAdt = bs*E - gs*A\n",
    "    return [dVdt, dndt, dEdt, dSdt, dTdt, dNdt, dAdt]"
   ]
  },
  {
   "cell_type": "markdown",
   "metadata": {},
   "source": [
    "Next we simulate the wild-type case:"
   ]
  },
  {
   "cell_type": "code",
   "execution_count": 4,
   "metadata": {
    "ExecuteTime": {
     "end_time": "2022-01-05T10:05:01.039248Z",
     "start_time": "2022-01-05T10:05:01.009559Z"
    }
   },
   "outputs": [],
   "source": [
    "Tmax = 350\n",
    "dt = 0.01\n",
    "vne0 = [1, 1, 0, 0, 0, 0, 0]\n",
    "tvec0 = np.arange(0,Tmax,dt)\n",
    "vne0_out = odeint(f, vne0, tvec0)\n",
    "\n",
    "Tmax = 50\n",
    "tvec = np.arange(0,Tmax,dt)\n",
    "vne0 = [vne0_out[-1,0], vne0_out[-1,1], vne0_out[-1,2]+kshock, vne0_out[-1,3], vne0_out[-1,4], vne0_out[-1,5], vne0_out[-1,6]]\n",
    "vne_out = odeint(f, vne0, tvec)\n",
    "\n",
    "thtts = np.concatenate((vne0_out[:,4],vne_out[:,4]),axis=0)\n",
    "normf = np.amax(abs(thtts[20000:-1]))\n",
    "thtts = thtts*50/normf\n",
    "tts = np.concatenate((tvec0[:],tvec[:]+tvec0[-1]),axis=0)-330"
   ]
  },
  {
   "cell_type": "markdown",
   "metadata": {},
   "source": [
    "Next we simulate the yugO deletion case, by eliminating the K channel:"
   ]
  },
  {
   "cell_type": "code",
   "execution_count": 5,
   "metadata": {
    "ExecuteTime": {
     "end_time": "2022-01-05T10:05:01.068365Z",
     "start_time": "2022-01-05T10:05:01.040131Z"
    }
   },
   "outputs": [],
   "source": [
    "gk = 0\n",
    "\n",
    "Tmax = 350\n",
    "dt = 0.01\n",
    "vne0 = [1, 1, 0, 0, 0, 0, 0]\n",
    "tvec0 = np.arange(0,Tmax,dt)\n",
    "vne0_out = odeint(f, vne0, tvec0)\n",
    "\n",
    "Tmax = 50\n",
    "tvec = np.arange(0,Tmax,dt)\n",
    "vne0 = [vne0_out[-1,0], vne0_out[-1,1], vne0_out[-1,2]+kshock, vne0_out[-1,3], vne0_out[-1,4], vne0_out[-1,5], vne0_out[-1,6]]\n",
    "vne_out = odeint(f, vne0, tvec)\n",
    "\n",
    "thtts2 = np.concatenate((vne0_out[:,4],vne_out[:,4]),axis=0)\n",
    "tts2 = np.concatenate((tvec0[:],tvec[:]+tvec0[-1]),axis=0)-330\n",
    "thtts2 = thtts2*50/normf"
   ]
  },
  {
   "cell_type": "markdown",
   "metadata": {},
   "source": [
    "Finally we plot the ThT reporter as a function of time for the wild-type and yugO deletion strains:"
   ]
  },
  {
   "cell_type": "code",
   "execution_count": 8,
   "metadata": {
    "ExecuteTime": {
     "end_time": "2022-01-05T10:07:01.747480Z",
     "start_time": "2022-01-05T10:07:01.607220Z"
    },
    "scrolled": false
   },
   "outputs": [
    {
     "data": {
      "image/png": "[encoded data removed]",
      "text/plain": [
       "<Figure size 576x432 with 1 Axes>"
      ]
     },
     "metadata": {
      "needs_background": "light"
     },
     "output_type": "display_data"
    }
   ],
   "source": [
    "fig = plt.figure(figsize=(8,6))\n",
    "plt.plot(tts,thtts,'k',linewidth=2)\n",
    "plt.plot(tts2,thtts2,'c',linewidth=2)\n",
    "plt.xlabel('Time (min)')\n",
    "plt.ylabel('ThT (arb. units)')\n",
    "plt.xlim(0,70)\n",
    "plt.ylim(-58,58)\n",
    "plt.grid()\n",
    "plt.tight_layout()\n",
    "plt.show()\n",
    "fig.savefig('figures/fig3d.pdf')"
   ]
  },
  {
   "cell_type": "code",
   "execution_count": null,
   "metadata": {},
   "outputs": [],
   "source": []
  }
 ],
 "metadata": {
  "hide_input": false,
  "kernelspec": {
   "display_name": "Python 3",
   "language": "python",
   "name": "python3"
  },
  "language_info": {
   "codemirror_mode": {
    "name": "ipython",
    "version": 3
   },
   "file_extension": ".py",
   "mimetype": "text/x-python",
   "name": "python",
   "nbconvert_exporter": "python",
   "pygments_lexer": "ipython3",
   "version": "3.7.7"
  },
  "toc": {
   "base_numbering": 1,
   "nav_menu": {},
   "number_sections": false,
   "sideBar": true,
   "skip_h1_title": false,
   "title_cell": "Table of Contents",
   "title_sidebar": "Contents",
   "toc_cell": false,
   "toc_position": {},
   "toc_section_display": true,
   "toc_window_display": false
  },
  "varInspector": {
   "cols": {
    "lenName": 16,
    "lenType": 16,
    "lenVar": 40
   },
   "kernels_config": {
    "python": {
     "delete_cmd_postfix": "",
     "delete_cmd_prefix": "del ",
     "library": "var_list.py",
     "varRefreshCmd": "print(var_dic_list())"
    },
    "r": {
     "delete_cmd_postfix": ") ",
     "delete_cmd_prefix": "rm(",
     "library": "var_list.r",
     "varRefreshCmd": "cat(var_dic_list()) "
    }
   },
   "types_to_exclude": [
    "module",
    "function",
    "builtin_function_or_method",
    "instance",
    "_Feature"
   ],
   "window_display": false
  }
 },
 "nbformat": 4,
 "nbformat_minor": 1
}
